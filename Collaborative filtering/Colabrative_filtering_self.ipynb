{
  "nbformat": 4,
  "nbformat_minor": 0,
  "metadata": {
    "colab": {
      "name": "Colabrative filtering.ipynb",
      "version": "0.3.2",
      "views": {},
      "default_view": {},
      "provenance": []
    },
    "kernelspec": {
      "name": "python3",
      "display_name": "Python 3"
    },
    "accelerator": "GPU"
  },
  "cells": [
    {
      "metadata": {
        "id": "xMzuDHCpLeqt",
        "colab_type": "code",
        "colab": {
          "autoexec": {
            "startup": false,
            "wait_interval": 0
          }
        }
      },
      "cell_type": "code",
      "source": [
        "!pip install https://github.com/fastai/fastai/archive/master.zip\n",
        "#!pip install opencv-python\n",
        "#!apt update && apt install -y libsm6 libxext6\n",
        "!pip3 install http://download.pytorch.org/whl/cu80/torch-0.3.0.post4-cp36-cp36m-linux_x86_64.whl \n",
        "  \n",
        "#!pip3 install torchvision\n",
        "#! pip install torchtext\n"
      ],
      "execution_count": 0,
      "outputs": []
    },
    {
      "metadata": {
        "id": "xOGMV3rzL4ON",
        "colab_type": "code",
        "colab": {
          "autoexec": {
            "startup": false,
            "wait_interval": 0
          }
        }
      },
      "cell_type": "code",
      "source": [
        "! pip install fastai\n",
        "%reload_ext autoreload\n",
        "%autoreload 2\n",
        "%matplotlib inline\n",
        "\n",
        "from fastai.learner import *\n",
        "from fastai.column_data import *\n"
      ],
      "execution_count": 0,
      "outputs": []
    },
    {
      "metadata": {
        "id": "Vg4YuZ0dM6Jc",
        "colab_type": "code",
        "colab": {
          "autoexec": {
            "startup": false,
            "wait_interval": 0
          },
          "base_uri": "https://localhost:8080/",
          "height": 204
        },
        "outputId": "81b67194-8d7a-4059-ae3d-75c1a81e5748",
        "executionInfo": {
          "status": "ok",
          "timestamp": 1532904237526,
          "user_tz": -330,
          "elapsed": 3318,
          "user": {
            "displayName": "Rishabh Vij",
            "photoUrl": "https://lh3.googleusercontent.com/a/default-user=s128",
            "userId": "116715461577636413908"
          }
        }
      },
      "cell_type": "code",
      "source": [
        "!wget http://files.grouplens.org/datasets/movielens/ml-latest-small.zip"
      ],
      "execution_count": 4,
      "outputs": [
        {
          "output_type": "stream",
          "text": [
            "--2018-07-29 22:43:55--  http://files.grouplens.org/datasets/movielens/ml-latest-small.zip\n",
            "Resolving files.grouplens.org (files.grouplens.org)... 128.101.34.235\n",
            "Connecting to files.grouplens.org (files.grouplens.org)|128.101.34.235|:80... connected.\n",
            "HTTP request sent, awaiting response... 200 OK\n",
            "Length: 918269 (897K) [application/zip]\n",
            "Saving to: ‘ml-latest-small.zip’\n",
            "\n",
            "ml-latest-small.zip 100%[===================>] 896.75K  1.33MB/s    in 0.7s    \n",
            "\n",
            "2018-07-29 22:43:56 (1.33 MB/s) - ‘ml-latest-small.zip’ saved [918269/918269]\n",
            "\n"
          ],
          "name": "stdout"
        }
      ]
    },
    {
      "metadata": {
        "id": "JF91OndiNkZS",
        "colab_type": "code",
        "colab": {
          "autoexec": {
            "startup": false,
            "wait_interval": 0
          },
          "base_uri": "https://localhost:8080/",
          "height": 34
        },
        "outputId": "90210041-6787-447c-9283-d43dcb0ab7e7",
        "executionInfo": {
          "status": "ok",
          "timestamp": 1532904245515,
          "user_tz": -330,
          "elapsed": 2051,
          "user": {
            "displayName": "Rishabh Vij",
            "photoUrl": "https://lh3.googleusercontent.com/a/default-user=s128",
            "userId": "116715461577636413908"
          }
        }
      },
      "cell_type": "code",
      "source": [
        "ls"
      ],
      "execution_count": 5,
      "outputs": [
        {
          "output_type": "stream",
          "text": [
            "\u001b[0m\u001b[01;34mdatalab\u001b[0m/  ml-latest-small.zip\r\n"
          ],
          "name": "stdout"
        }
      ]
    },
    {
      "metadata": {
        "id": "d7Mec_20Nul0",
        "colab_type": "code",
        "colab": {
          "autoexec": {
            "startup": false,
            "wait_interval": 0
          },
          "base_uri": "https://localhost:8080/",
          "height": 102
        },
        "outputId": "a01d5d47-b6ac-46c7-f063-b45610c8e514",
        "executionInfo": {
          "status": "ok",
          "timestamp": 1532904336836,
          "user_tz": -330,
          "elapsed": 3406,
          "user": {
            "displayName": "Rishabh Vij",
            "photoUrl": "https://lh3.googleusercontent.com/a/default-user=s128",
            "userId": "116715461577636413908"
          }
        }
      },
      "cell_type": "code",
      "source": [
        "!apt-get install unzip"
      ],
      "execution_count": 8,
      "outputs": [
        {
          "output_type": "stream",
          "text": [
            "Reading package lists... Done\n",
            "Building dependency tree       \n",
            "Reading state information... Done\n",
            "unzip is already the newest version (6.0-21ubuntu1).\n",
            "0 upgraded, 0 newly installed, 0 to remove and 0 not upgraded.\n"
          ],
          "name": "stdout"
        }
      ]
    },
    {
      "metadata": {
        "id": "60UbW1muN9_f",
        "colab_type": "code",
        "colab": {
          "autoexec": {
            "startup": false,
            "wait_interval": 0
          },
          "base_uri": "https://localhost:8080/",
          "height": 136
        },
        "outputId": "4927b006-d5c4-48cb-92a2-a3ed8d06f8aa",
        "executionInfo": {
          "status": "ok",
          "timestamp": 1532904390482,
          "user_tz": -330,
          "elapsed": 3417,
          "user": {
            "displayName": "Rishabh Vij",
            "photoUrl": "https://lh3.googleusercontent.com/a/default-user=s128",
            "userId": "116715461577636413908"
          }
        }
      },
      "cell_type": "code",
      "source": [
        "!mkdir data\n",
        "!unzip ml-latest-small.zip -d data/\n"
      ],
      "execution_count": 9,
      "outputs": [
        {
          "output_type": "stream",
          "text": [
            "Archive:  ml-latest-small.zip\r\n",
            "   creating: data/ml-latest-small/\r\n",
            "  inflating: data/ml-latest-small/links.csv  \r\n",
            "  inflating: data/ml-latest-small/movies.csv  \r\n",
            "  inflating: data/ml-latest-small/ratings.csv  \r\n",
            "  inflating: data/ml-latest-small/README.txt  \r\n",
            "  inflating: data/ml-latest-small/tags.csv  \r\n"
          ],
          "name": "stdout"
        }
      ]
    },
    {
      "metadata": {
        "id": "i4nDnbm0ONDK",
        "colab_type": "code",
        "colab": {
          "autoexec": {
            "startup": false,
            "wait_interval": 0
          },
          "base_uri": "https://localhost:8080/",
          "height": 34
        },
        "outputId": "13de62c9-03c9-4ab0-b56f-aeae4fa61df6",
        "executionInfo": {
          "status": "ok",
          "timestamp": 1532904416198,
          "user_tz": -330,
          "elapsed": 2793,
          "user": {
            "displayName": "Rishabh Vij",
            "photoUrl": "https://lh3.googleusercontent.com/a/default-user=s128",
            "userId": "116715461577636413908"
          }
        }
      },
      "cell_type": "code",
      "source": [
        "! cd data && ls"
      ],
      "execution_count": 11,
      "outputs": [
        {
          "output_type": "stream",
          "text": [
            "ml-latest-small\r\n"
          ],
          "name": "stdout"
        }
      ]
    },
    {
      "metadata": {
        "id": "iDktj3IDORhV",
        "colab_type": "code",
        "colab": {
          "autoexec": {
            "startup": false,
            "wait_interval": 0
          }
        }
      },
      "cell_type": "code",
      "source": [
        "path='data/ml-latest-small/'"
      ],
      "execution_count": 0,
      "outputs": []
    },
    {
      "metadata": {
        "id": "o8VnnE6WOl0S",
        "colab_type": "code",
        "colab": {
          "autoexec": {
            "startup": false,
            "wait_interval": 0
          }
        }
      },
      "cell_type": "code",
      "source": [
        "ratings= pd.read_csv(path+'ratings.csv')"
      ],
      "execution_count": 0,
      "outputs": []
    },
    {
      "metadata": {
        "id": "rKjSnoHROyfJ",
        "colab_type": "code",
        "colab": {
          "autoexec": {
            "startup": false,
            "wait_interval": 0
          },
          "base_uri": "https://localhost:8080/",
          "height": 204
        },
        "outputId": "98e66a5e-7720-4a02-e948-251d7099cba7",
        "executionInfo": {
          "status": "ok",
          "timestamp": 1532904559959,
          "user_tz": -330,
          "elapsed": 1290,
          "user": {
            "displayName": "Rishabh Vij",
            "photoUrl": "https://lh3.googleusercontent.com/a/default-user=s128",
            "userId": "116715461577636413908"
          }
        }
      },
      "cell_type": "code",
      "source": [
        "ratings.head()"
      ],
      "execution_count": 15,
      "outputs": [
        {
          "output_type": "execute_result",
          "data": {
            "text/html": [
              "<div>\n",
              "<style scoped>\n",
              "    .dataframe tbody tr th:only-of-type {\n",
              "        vertical-align: middle;\n",
              "    }\n",
              "\n",
              "    .dataframe tbody tr th {\n",
              "        vertical-align: top;\n",
              "    }\n",
              "\n",
              "    .dataframe thead th {\n",
              "        text-align: right;\n",
              "    }\n",
              "</style>\n",
              "<table border=\"1\" class=\"dataframe\">\n",
              "  <thead>\n",
              "    <tr style=\"text-align: right;\">\n",
              "      <th></th>\n",
              "      <th>userId</th>\n",
              "      <th>movieId</th>\n",
              "      <th>rating</th>\n",
              "      <th>timestamp</th>\n",
              "    </tr>\n",
              "  </thead>\n",
              "  <tbody>\n",
              "    <tr>\n",
              "      <th>0</th>\n",
              "      <td>1</td>\n",
              "      <td>31</td>\n",
              "      <td>2.5</td>\n",
              "      <td>1260759144</td>\n",
              "    </tr>\n",
              "    <tr>\n",
              "      <th>1</th>\n",
              "      <td>1</td>\n",
              "      <td>1029</td>\n",
              "      <td>3.0</td>\n",
              "      <td>1260759179</td>\n",
              "    </tr>\n",
              "    <tr>\n",
              "      <th>2</th>\n",
              "      <td>1</td>\n",
              "      <td>1061</td>\n",
              "      <td>3.0</td>\n",
              "      <td>1260759182</td>\n",
              "    </tr>\n",
              "    <tr>\n",
              "      <th>3</th>\n",
              "      <td>1</td>\n",
              "      <td>1129</td>\n",
              "      <td>2.0</td>\n",
              "      <td>1260759185</td>\n",
              "    </tr>\n",
              "    <tr>\n",
              "      <th>4</th>\n",
              "      <td>1</td>\n",
              "      <td>1172</td>\n",
              "      <td>4.0</td>\n",
              "      <td>1260759205</td>\n",
              "    </tr>\n",
              "  </tbody>\n",
              "</table>\n",
              "</div>"
            ],
            "text/plain": [
              "   userId  movieId  rating   timestamp\n",
              "0       1       31     2.5  1260759144\n",
              "1       1     1029     3.0  1260759179\n",
              "2       1     1061     3.0  1260759182\n",
              "3       1     1129     2.0  1260759185\n",
              "4       1     1172     4.0  1260759205"
            ]
          },
          "metadata": {
            "tags": []
          },
          "execution_count": 15
        }
      ]
    },
    {
      "metadata": {
        "id": "0OMEkvb1O0_B",
        "colab_type": "code",
        "colab": {
          "autoexec": {
            "startup": false,
            "wait_interval": 0
          },
          "base_uri": "https://localhost:8080/",
          "height": 204
        },
        "outputId": "96adb64f-b3d4-46da-83b3-3c713de6cf42",
        "executionInfo": {
          "status": "ok",
          "timestamp": 1532904614929,
          "user_tz": -330,
          "elapsed": 1564,
          "user": {
            "displayName": "Rishabh Vij",
            "photoUrl": "https://lh3.googleusercontent.com/a/default-user=s128",
            "userId": "116715461577636413908"
          }
        }
      },
      "cell_type": "code",
      "source": [
        "movies=pd.read_csv(path+'movies.csv')\n",
        "movies.head()"
      ],
      "execution_count": 16,
      "outputs": [
        {
          "output_type": "execute_result",
          "data": {
            "text/html": [
              "<div>\n",
              "<style scoped>\n",
              "    .dataframe tbody tr th:only-of-type {\n",
              "        vertical-align: middle;\n",
              "    }\n",
              "\n",
              "    .dataframe tbody tr th {\n",
              "        vertical-align: top;\n",
              "    }\n",
              "\n",
              "    .dataframe thead th {\n",
              "        text-align: right;\n",
              "    }\n",
              "</style>\n",
              "<table border=\"1\" class=\"dataframe\">\n",
              "  <thead>\n",
              "    <tr style=\"text-align: right;\">\n",
              "      <th></th>\n",
              "      <th>movieId</th>\n",
              "      <th>title</th>\n",
              "      <th>genres</th>\n",
              "    </tr>\n",
              "  </thead>\n",
              "  <tbody>\n",
              "    <tr>\n",
              "      <th>0</th>\n",
              "      <td>1</td>\n",
              "      <td>Toy Story (1995)</td>\n",
              "      <td>Adventure|Animation|Children|Comedy|Fantasy</td>\n",
              "    </tr>\n",
              "    <tr>\n",
              "      <th>1</th>\n",
              "      <td>2</td>\n",
              "      <td>Jumanji (1995)</td>\n",
              "      <td>Adventure|Children|Fantasy</td>\n",
              "    </tr>\n",
              "    <tr>\n",
              "      <th>2</th>\n",
              "      <td>3</td>\n",
              "      <td>Grumpier Old Men (1995)</td>\n",
              "      <td>Comedy|Romance</td>\n",
              "    </tr>\n",
              "    <tr>\n",
              "      <th>3</th>\n",
              "      <td>4</td>\n",
              "      <td>Waiting to Exhale (1995)</td>\n",
              "      <td>Comedy|Drama|Romance</td>\n",
              "    </tr>\n",
              "    <tr>\n",
              "      <th>4</th>\n",
              "      <td>5</td>\n",
              "      <td>Father of the Bride Part II (1995)</td>\n",
              "      <td>Comedy</td>\n",
              "    </tr>\n",
              "  </tbody>\n",
              "</table>\n",
              "</div>"
            ],
            "text/plain": [
              "   movieId                               title  \\\n",
              "0        1                    Toy Story (1995)   \n",
              "1        2                      Jumanji (1995)   \n",
              "2        3             Grumpier Old Men (1995)   \n",
              "3        4            Waiting to Exhale (1995)   \n",
              "4        5  Father of the Bride Part II (1995)   \n",
              "\n",
              "                                        genres  \n",
              "0  Adventure|Animation|Children|Comedy|Fantasy  \n",
              "1                   Adventure|Children|Fantasy  \n",
              "2                               Comedy|Romance  \n",
              "3                         Comedy|Drama|Romance  \n",
              "4                                       Comedy  "
            ]
          },
          "metadata": {
            "tags": []
          },
          "execution_count": 16
        }
      ]
    },
    {
      "metadata": {
        "id": "4LnZ4KCOPRL5",
        "colab_type": "text"
      },
      "cell_type": "markdown",
      "source": [
        "##Collaborative filtering with fastai"
      ]
    },
    {
      "metadata": {
        "id": "_t0NU57VPX-H",
        "colab_type": "code",
        "colab": {
          "autoexec": {
            "startup": false,
            "wait_interval": 0
          }
        }
      },
      "cell_type": "code",
      "source": [
        "val_idxs=get_cv_idxs(len(ratings))\n",
        "wd=2e-4\n",
        "n_factors=50# This is the depth of the embedding matrix. Can be thought of as the number of latent features. (see note above)\n"
      ],
      "execution_count": 0,
      "outputs": []
    },
    {
      "metadata": {
        "id": "RjzzELMPPgII",
        "colab_type": "code",
        "colab": {
          "autoexec": {
            "startup": false,
            "wait_interval": 0
          }
        }
      },
      "cell_type": "code",
      "source": [
        "# Now declare our data and learner\n",
        "# We pass in the two columns and the thing we want to predict\n",
        "cf=CollabFilterDataset.from_csv(path,'ratings.csv','userId','movieId','rating')\n",
        "learn=cf.get_learner(n_factors,val_idxs,64,opt_fn=optim.Adam)"
      ],
      "execution_count": 0,
      "outputs": []
    },
    {
      "metadata": {
        "id": "NKl-YUi4R-q8",
        "colab_type": "code",
        "colab": {
          "autoexec": {
            "startup": false,
            "wait_interval": 0
          },
          "base_uri": "https://localhost:8080/",
          "height": 51
        },
        "outputId": "702b5114-a0c8-4a1c-cdc9-76eab467698e",
        "executionInfo": {
          "status": "ok",
          "timestamp": 1532905578325,
          "user_tz": -330,
          "elapsed": 9512,
          "user": {
            "displayName": "Rishabh Vij",
            "photoUrl": "https://lh3.googleusercontent.com/a/default-user=s128",
            "userId": "116715461577636413908"
          }
        }
      },
      "cell_type": "code",
      "source": [
        "#finding the best learning rate\n",
        "learn.lr_find()"
      ],
      "execution_count": 23,
      "outputs": [
        {
          "output_type": "display_data",
          "data": {
            "application/vnd.jupyter.widget-view+json": {
              "model_id": "67cc3c6d924845b6ad043fcca57d484e",
              "version_minor": 0,
              "version_major": 2
            },
            "text/plain": [
              "HBox(children=(IntProgress(value=0, description='Epoch', max=1), HTML(value='')))"
            ]
          },
          "metadata": {
            "tags": []
          }
        },
        {
          "output_type": "stream",
          "text": [
            " 75%|███████▍  | 934/1251 [00:08<00:02, 108.25it/s, loss=4.87]\n"
          ],
          "name": "stdout"
        }
      ]
    },
    {
      "metadata": {
        "id": "Z-6xA7GRSrma",
        "colab_type": "code",
        "colab": {
          "autoexec": {
            "startup": false,
            "wait_interval": 0
          },
          "base_uri": "https://localhost:8080/",
          "height": 283
        },
        "outputId": "41bfe385-e77e-4d2a-8fc1-551a7ee2ef5f",
        "executionInfo": {
          "status": "ok",
          "timestamp": 1532905619298,
          "user_tz": -330,
          "elapsed": 1609,
          "user": {
            "displayName": "Rishabh Vij",
            "photoUrl": "https://lh3.googleusercontent.com/a/default-user=s128",
            "userId": "116715461577636413908"
          }
        }
      },
      "cell_type": "code",
      "source": [
        "learn.sched.plot()"
      ],
      "execution_count": 24,
      "outputs": [
        {
          "output_type": "display_data",
          "data": {
            "image/png": "[encoded data removed]",
            "text/plain": [
              "<matplotlib.figure.Figure at 0x7f45b0c8a9b0>"
            ]
          },
          "metadata": {
            "tags": []
          }
        }
      ]
    },
    {
      "metadata": {
        "id": "AhSnwLE1S3iE",
        "colab_type": "code",
        "colab": {
          "autoexec": {
            "startup": false,
            "wait_interval": 0
          },
          "base_uri": "https://localhost:8080/",
          "height": 279
        },
        "outputId": "a82ebff5-054b-4b77-c298-b2948fea6581",
        "executionInfo": {
          "status": "ok",
          "timestamp": 1532905899581,
          "user_tz": -330,
          "elapsed": 1463,
          "user": {
            "displayName": "Rishabh Vij",
            "photoUrl": "https://lh3.googleusercontent.com/a/default-user=s128",
            "userId": "116715461577636413908"
          }
        }
      },
      "cell_type": "code",
      "source": [
        "learn.sched.plot_lr()"
      ],
      "execution_count": 25,
      "outputs": [
        {
          "output_type": "display_data",
          "data": {
            "image/png": "[encoded data removed]",
            "text/plain": [
              "<matplotlib.figure.Figure at 0x7f45ee2c0f28>"
            ]
          },
          "metadata": {
            "tags": []
          }
        }
      ]
    },
    {
      "metadata": {
        "id": "BF_TTGCiT7_w",
        "colab_type": "code",
        "colab": {
          "autoexec": {
            "startup": false,
            "wait_interval": 0
          },
          "base_uri": "https://localhost:8080/",
          "height": 136
        },
        "outputId": "c3b7b7d2-d86f-46ab-f425-2730926b3c29",
        "executionInfo": {
          "status": "ok",
          "timestamp": 1532906022623,
          "user_tz": -330,
          "elapsed": 38531,
          "user": {
            "displayName": "Rishabh Vij",
            "photoUrl": "https://lh3.googleusercontent.com/a/default-user=s128",
            "userId": "116715461577636413908"
          }
        }
      },
      "cell_type": "code",
      "source": [
        "learn.fit(0.00317,2,cycle_len=1,cycle_mult=2,wds=wd)"
      ],
      "execution_count": 26,
      "outputs": [
        {
          "output_type": "display_data",
          "data": {
            "application/vnd.jupyter.widget-view+json": {
              "model_id": "85029f21d00445dd898e908dfe1241f3",
              "version_minor": 0,
              "version_major": 2
            },
            "text/plain": [
              "HBox(children=(IntProgress(value=0, description='Epoch', max=3), HTML(value='')))"
            ]
          },
          "metadata": {
            "tags": []
          }
        },
        {
          "output_type": "stream",
          "text": [
            "epoch      trn_loss   val_loss   \n",
            "    0      0.909187   0.911769  \n",
            "  8%|▊         | 97/1251 [00:01<00:12, 93.46it/s, loss=0.891]"
          ],
          "name": "stdout"
        },
        {
          "output_type": "stream",
          "text": [
            "    1      0.78697    0.784537  \n",
            "    2      0.664381   0.773104  \n",
            "\n"
          ],
          "name": "stdout"
        },
        {
          "output_type": "execute_result",
          "data": {
            "text/plain": [
              "[array([0.7731])]"
            ]
          },
          "metadata": {
            "tags": []
          },
          "execution_count": 26
        }
      ]
    },
    {
      "metadata": {
        "id": "QSrWubRxlSxL",
        "colab_type": "text"
      },
      "cell_type": "markdown",
      "source": [
        "**The evaluation method here is MSE -- mean squared error (sum of actual value-predicted value)^2/num of samples). So we'll take the square root to get our RMSE.**"
      ]
    },
    {
      "metadata": {
        "id": "Q_tXRGS9UQ-n",
        "colab_type": "code",
        "colab": {
          "autoexec": {
            "startup": false,
            "wait_interval": 0
          },
          "base_uri": "https://localhost:8080/",
          "height": 34
        },
        "outputId": "919594d8-8456-4b9c-99a7-a7ac34877f1f",
        "executionInfo": {
          "status": "ok",
          "timestamp": 1532906094919,
          "user_tz": -330,
          "elapsed": 1402,
          "user": {
            "displayName": "Rishabh Vij",
            "photoUrl": "https://lh3.googleusercontent.com/a/default-user=s128",
            "userId": "116715461577636413908"
          }
        }
      },
      "cell_type": "code",
      "source": [
        "math.sqrt(0.7731)"
      ],
      "execution_count": 27,
      "outputs": [
        {
          "output_type": "execute_result",
          "data": {
            "text/plain": [
              "0.8792610533851707"
            ]
          },
          "metadata": {
            "tags": []
          },
          "execution_count": 27
        }
      ]
    },
    {
      "metadata": {
        "id": "gOjjViAIVAIW",
        "colab_type": "code",
        "colab": {
          "autoexec": {
            "startup": false,
            "wait_interval": 0
          }
        }
      },
      "cell_type": "code",
      "source": [
        "preds=learn.predict()\n",
        "y=learn.data.val_y"
      ],
      "execution_count": 0,
      "outputs": []
    },
    {
      "metadata": {
        "id": "l_xGQq0elglW",
        "colab_type": "text"
      },
      "cell_type": "markdown",
      "source": [
        "## Movie Bias\n",
        "\n",
        "**Our bias affects the movie rating, so we can also think of it as a measure of how good/bad movies are.**"
      ]
    },
    {
      "metadata": {
        "id": "JftRGaNUVkyR",
        "colab_type": "code",
        "colab": {
          "autoexec": {
            "startup": false,
            "wait_interval": 0
          }
        }
      },
      "cell_type": "code",
      "source": [
        "movie_names = movies.set_index('movieId')['title'].to_dict()\n"
      ],
      "execution_count": 0,
      "outputs": []
    },
    {
      "metadata": {
        "id": "S8rwiN9eWAeq",
        "colab_type": "code",
        "colab": {
          "autoexec": {
            "startup": false,
            "wait_interval": 0
          }
        }
      },
      "cell_type": "code",
      "source": [
        "g=ratings.groupby('movieId')['rating'].count()\n",
        "topMovies=g.sort_values(ascending=False).index.values[:3000]"
      ],
      "execution_count": 0,
      "outputs": []
    },
    {
      "metadata": {
        "id": "3r4nplWTWiKp",
        "colab_type": "code",
        "colab": {
          "autoexec": {
            "startup": false,
            "wait_interval": 0
          },
          "base_uri": "https://localhost:8080/",
          "height": 34
        },
        "outputId": "d98aace5-822e-4338-f874-fa17d039018e",
        "executionInfo": {
          "status": "ok",
          "timestamp": 1532906777337,
          "user_tz": -330,
          "elapsed": 1265,
          "user": {
            "displayName": "Rishabh Vij",
            "photoUrl": "https://lh3.googleusercontent.com/a/default-user=s128",
            "userId": "116715461577636413908"
          }
        }
      },
      "cell_type": "code",
      "source": [
        "topMovies"
      ],
      "execution_count": 50,
      "outputs": [
        {
          "output_type": "execute_result",
          "data": {
            "text/plain": [
              "array([ 356,  296,  318, ...,  149, 1554,   72])"
            ]
          },
          "metadata": {
            "tags": []
          },
          "execution_count": 50
        }
      ]
    },
    {
      "metadata": {
        "id": "6FdV0YRhWw5D",
        "colab_type": "code",
        "colab": {
          "autoexec": {
            "startup": false,
            "wait_interval": 0
          }
        }
      },
      "cell_type": "code",
      "source": [
        "topMovieIdx = np.array([cf.item2idx[o] for o in topMovies])\n"
      ],
      "execution_count": 0,
      "outputs": []
    },
    {
      "metadata": {
        "id": "KlwNWy1gl1zO",
        "colab_type": "text"
      },
      "cell_type": "markdown",
      "source": [
        "**So below we have a model wth two embedding layers, and then two bias layers -- one of user biases, and one for item biases (in this case, items = movies).**\n",
        "\n",
        "\n",
        "**You can see the 0th element is the number of items, and the 1st element is the number of features. For example, in our user embedding layer, we have 671 users and 50 features, in our item bias layer we have 9066 movies and 1 bias for each movie, etc.**"
      ]
    },
    {
      "metadata": {
        "id": "2XYNl_sgYNJx",
        "colab_type": "code",
        "colab": {
          "autoexec": {
            "startup": false,
            "wait_interval": 0
          },
          "base_uri": "https://localhost:8080/",
          "height": 119
        },
        "outputId": "f2376d38-12ab-4d31-b9a8-5c7381c521b1",
        "executionInfo": {
          "status": "ok",
          "timestamp": 1532907174226,
          "user_tz": -330,
          "elapsed": 1366,
          "user": {
            "displayName": "Rishabh Vij",
            "photoUrl": "https://lh3.googleusercontent.com/a/default-user=s128",
            "userId": "116715461577636413908"
          }
        }
      },
      "cell_type": "code",
      "source": [
        "m=learn.model;m.cuda()"
      ],
      "execution_count": 60,
      "outputs": [
        {
          "output_type": "execute_result",
          "data": {
            "text/plain": [
              "EmbeddingDotBias(\n",
              "  (u): Embedding(671, 50)\n",
              "  (i): Embedding(9066, 50)\n",
              "  (ub): Embedding(671, 1)\n",
              "  (ib): Embedding(9066, 1)\n",
              ")"
            ]
          },
          "metadata": {
            "tags": []
          },
          "execution_count": 60
        }
      ]
    },
    {
      "metadata": {
        "id": "uyuNBLizmG9X",
        "colab_type": "text"
      },
      "cell_type": "markdown",
      "source": [
        "**Here we take our top movie IDs and pass them into the item bias layer to get the biases for the movie.**\n",
        "\n",
        "**Note: PyTorch lets you do this -- pass in indices to a layer to get the corresponding values. The indicies must be converted to PyTorch Variables first. Recall that a variable is basically like a tensor that supports automatic differentiation.**\n",
        "\n",
        "**We then convert the resulting data to a NumPy array so that work can be done on the CPU.**"
      ]
    },
    {
      "metadata": {
        "id": "jct_y5npYpor",
        "colab_type": "code",
        "colab": {
          "autoexec": {
            "startup": false,
            "wait_interval": 0
          }
        }
      },
      "cell_type": "code",
      "source": [
        "movie_bias=to_np(m.ib(V(topMovieIdx)))"
      ],
      "execution_count": 0,
      "outputs": []
    },
    {
      "metadata": {
        "id": "pmP3wWGBZffh",
        "colab_type": "code",
        "colab": {
          "autoexec": {
            "startup": false,
            "wait_interval": 0
          },
          "base_uri": "https://localhost:8080/",
          "height": 136
        },
        "outputId": "68fe1981-5665-4933-c301-21a9cec01fd4",
        "executionInfo": {
          "status": "ok",
          "timestamp": 1532907389703,
          "user_tz": -330,
          "elapsed": 2066,
          "user": {
            "displayName": "Rishabh Vij",
            "photoUrl": "https://lh3.googleusercontent.com/a/default-user=s128",
            "userId": "116715461577636413908"
          }
        }
      },
      "cell_type": "code",
      "source": [
        "(movie_bias)"
      ],
      "execution_count": 64,
      "outputs": [
        {
          "output_type": "execute_result",
          "data": {
            "text/plain": [
              "array([[ 0.81272],\n",
              "       [ 0.96435],\n",
              "       [ 1.26198],\n",
              "       ...,\n",
              "       [ 0.26417],\n",
              "       [-0.05818],\n",
              "       [ 0.25061]], dtype=float32)"
            ]
          },
          "metadata": {
            "tags": []
          },
          "execution_count": 64
        }
      ]
    },
    {
      "metadata": {
        "id": "k5Ql11v4Zh6j",
        "colab_type": "code",
        "colab": {
          "autoexec": {
            "startup": false,
            "wait_interval": 0
          }
        }
      },
      "cell_type": "code",
      "source": [
        "# Zip up the movie names with their respective biases\n",
        "movie_ratings = [(b[0], movie_names[i]) for i,b in zip(topMovies, movie_bias)]"
      ],
      "execution_count": 0,
      "outputs": []
    },
    {
      "metadata": {
        "id": "DI1-l7dumfGL",
        "colab_type": "text"
      },
      "cell_type": "markdown",
      "source": [
        "**Now we can look at top and bottom rated movies, corrected for reviewer sentiment, and the different types of movies viewers watch.**\n",
        "\n",
        "**Below are bottom rated movies**\n"
      ]
    },
    {
      "metadata": {
        "id": "rWOYWBrnaPSy",
        "colab_type": "code",
        "colab": {
          "autoexec": {
            "startup": false,
            "wait_interval": 0
          },
          "base_uri": "https://localhost:8080/",
          "height": 272
        },
        "outputId": "d05f38e8-4149-47ae-c2fd-4f2c8c2fda86",
        "executionInfo": {
          "status": "ok",
          "timestamp": 1532908161945,
          "user_tz": -330,
          "elapsed": 1270,
          "user": {
            "displayName": "Rishabh Vij",
            "photoUrl": "https://lh3.googleusercontent.com/a/default-user=s128",
            "userId": "116715461577636413908"
          }
        }
      },
      "cell_type": "code",
      "source": [
        "sorted(movie_ratings, key=lambda o: o[0])[:15]\n"
      ],
      "execution_count": 70,
      "outputs": [
        {
          "output_type": "execute_result",
          "data": {
            "text/plain": [
              "[(-1.0009699, 'Battlefield Earth (2000)'),\n",
              " (-0.85735816, 'Wild Wild West (1999)'),\n",
              " (-0.8255412, 'Anaconda (1997)'),\n",
              " (-0.8109754, 'Super Mario Bros. (1993)'),\n",
              " (-0.8050425, 'Speed 2: Cruise Control (1997)'),\n",
              " (-0.7004428, 'Inspector Gadget (1999)'),\n",
              " (-0.69935024, 'Mighty Morphin Power Rangers: The Movie (1995)'),\n",
              " (-0.69102156, 'Congo (1995)'),\n",
              " (-0.6802088, 'Police Academy 5: Assignment: Miami Beach (1988)'),\n",
              " (-0.6641919, 'Batman & Robin (1997)'),\n",
              " (-0.64195544, 'Police Academy 4: Citizens on Patrol (1987)'),\n",
              " (-0.6387304, 'Avengers, The (1998)'),\n",
              " (-0.6352769, 'Bio-Dome (1996)'),\n",
              " (-0.63259125, 'Superman III (1983)'),\n",
              " (-0.6322118, 'Jaws 3-D (1983)')]"
            ]
          },
          "metadata": {
            "tags": []
          },
          "execution_count": 70
        }
      ]
    },
    {
      "metadata": {
        "id": "5ewgDQ9qmt7Z",
        "colab_type": "text"
      },
      "cell_type": "markdown",
      "source": [
        "**And these are top rated movies**"
      ]
    },
    {
      "metadata": {
        "id": "KmaTAvFRacFI",
        "colab_type": "code",
        "colab": {
          "autoexec": {
            "startup": false,
            "wait_interval": 0
          },
          "base_uri": "https://localhost:8080/",
          "height": 272
        },
        "outputId": "08ecbae6-92ec-48c7-8aae-4adc5b98fd89",
        "executionInfo": {
          "status": "ok",
          "timestamp": 1532908181903,
          "user_tz": -330,
          "elapsed": 1608,
          "user": {
            "displayName": "Rishabh Vij",
            "photoUrl": "https://lh3.googleusercontent.com/a/default-user=s128",
            "userId": "116715461577636413908"
          }
        }
      },
      "cell_type": "code",
      "source": [
        "sorted(movie_ratings, key=lambda o: o[0], reverse=True)[:15]\n"
      ],
      "execution_count": 71,
      "outputs": [
        {
          "output_type": "execute_result",
          "data": {
            "text/plain": [
              "[(1.2619832, 'Shawshank Redemption, The (1994)'),\n",
              " (1.2316613, 'Godfather, The (1972)'),\n",
              " (1.1097251, 'Usual Suspects, The (1995)'),\n",
              " (1.0758594, 'Godfather: Part II, The (1974)'),\n",
              " (0.9643454, 'Pulp Fiction (1994)'),\n",
              " (0.962297, \"Schindler's List (1993)\"),\n",
              " (0.9564319, 'Fargo (1996)'),\n",
              " (0.9285193, '12 Angry Men (1957)'),\n",
              " (0.9068303, 'Star Wars: Episode IV - A New Hope (1977)'),\n",
              " (0.90497094, 'American Beauty (1999)'),\n",
              " (0.8965753, 'Dark Knight, The (2008)'),\n",
              " (0.89168906, \"Amelie (Fabuleux destin d'Amélie Poulain, Le) (2001)\"),\n",
              " (0.8842657, 'Silence of the Lambs, The (1991)'),\n",
              " (0.8713396, 'Stand by Me (1986)'),\n",
              " (0.8708245, 'Maltese Falcon, The (1941)')]"
            ]
          },
          "metadata": {
            "tags": []
          },
          "execution_count": 71
        }
      ]
    },
    {
      "metadata": {
        "id": "WQZxpKKrnvfC",
        "colab_type": "text"
      },
      "cell_type": "markdown",
      "source": [
        "##Interpreting embedding matrices"
      ]
    },
    {
      "metadata": {
        "id": "3X_cKVpqnt3R",
        "colab_type": "code",
        "colab": {
          "autoexec": {
            "startup": false,
            "wait_interval": 0
          },
          "base_uri": "https://localhost:8080/",
          "height": 34
        },
        "outputId": "804a583f-4a5f-4f5b-8f21-5d90e3a84751",
        "executionInfo": {
          "status": "ok",
          "timestamp": 1532911195975,
          "user_tz": -330,
          "elapsed": 1424,
          "user": {
            "displayName": "Rishabh Vij",
            "photoUrl": "https://lh3.googleusercontent.com/a/default-user=s128",
            "userId": "116715461577636413908"
          }
        }
      },
      "cell_type": "code",
      "source": [
        "movie_embeddings  = to_np(m.i(V(topMovieIdx)))\n",
        "movie_embeddings.shape"
      ],
      "execution_count": 77,
      "outputs": [
        {
          "output_type": "execute_result",
          "data": {
            "text/plain": [
              "(3000, 50)"
            ]
          },
          "metadata": {
            "tags": []
          },
          "execution_count": 77
        }
      ]
    },
    {
      "metadata": {
        "id": "F13gQ56qoMcP",
        "colab_type": "text"
      },
      "cell_type": "markdown",
      "source": [
        "**It's hard to interpret 50 different factors. We use Principle Component Analysis (PCA) to simplify them down to 3 vectors.**\n",
        "\n",
        "**PCA essentially says, reduce our dimensionality down to n. It finds 3 linear combinations of our 50 embedding dimensions whic capture as much variation as possible, while also making those 3 linear combinations as different to each other as possible.**"
      ]
    },
    {
      "metadata": {
        "id": "66dk7IRun7so",
        "colab_type": "code",
        "colab": {
          "autoexec": {
            "startup": false,
            "wait_interval": 0
          },
          "base_uri": "https://localhost:8080/",
          "height": 34
        },
        "outputId": "0f9b8016-900a-4a45-ed1f-3b334afccbda",
        "executionInfo": {
          "status": "ok",
          "timestamp": 1532911266927,
          "user_tz": -330,
          "elapsed": 1501,
          "user": {
            "displayName": "Rishabh Vij",
            "photoUrl": "https://lh3.googleusercontent.com/a/default-user=s128",
            "userId": "116715461577636413908"
          }
        }
      },
      "cell_type": "code",
      "source": [
        "from sklearn.decomposition import PCA\n",
        "pca = PCA(n_components=3)\n",
        "movie_pca = pca.fit(movie_embeddings.T).components_\n",
        "movie_pca.shape\n"
      ],
      "execution_count": 79,
      "outputs": [
        {
          "output_type": "execute_result",
          "data": {
            "text/plain": [
              "(3, 3000)"
            ]
          },
          "metadata": {
            "tags": []
          },
          "execution_count": 79
        }
      ]
    },
    {
      "metadata": {
        "id": "ilek0AKSoXqi",
        "colab_type": "code",
        "colab": {
          "autoexec": {
            "startup": false,
            "wait_interval": 0
          }
        }
      },
      "cell_type": "code",
      "source": [
        "factor0 = movie_pca[0]\n",
        "movie_comp = [(f, movie_names[i]) for f,i in zip(fac0, topMovies)]"
      ],
      "execution_count": 0,
      "outputs": []
    },
    {
      "metadata": {
        "id": "grTYYdRXpNKj",
        "colab_type": "code",
        "colab": {
          "autoexec": {
            "startup": false,
            "wait_interval": 0
          },
          "base_uri": "https://localhost:8080/",
          "height": 187
        },
        "outputId": "279c5b3e-f71b-4ff4-9b05-07eb9cc11eac",
        "executionInfo": {
          "status": "ok",
          "timestamp": 1532911614513,
          "user_tz": -330,
          "elapsed": 2120,
          "user": {
            "displayName": "Rishabh Vij",
            "photoUrl": "https://lh3.googleusercontent.com/a/default-user=s128",
            "userId": "116715461577636413908"
          }
        }
      },
      "cell_type": "code",
      "source": [
        "# Looking at the first component, it looks like it's something like classier movies vs. more lighthearted\n",
        "sorted(movie_comp, key=itemgetter(0), reverse=True)[:10]"
      ],
      "execution_count": 85,
      "outputs": [
        {
          "output_type": "execute_result",
          "data": {
            "text/plain": [
              "[(0.07592221, 'Fargo (1996)'),\n",
              " (0.0735939, 'Pulp Fiction (1994)'),\n",
              " (0.06698744, 'Being John Malkovich (1999)'),\n",
              " (0.066247076, 'Chinatown (1974)'),\n",
              " (0.0631403, 'Three Colors: Red (Trois couleurs: Rouge) (1994)'),\n",
              " (0.06274937, 'Godfather, The (1972)'),\n",
              " (0.06060743, 'Taxi Driver (1976)'),\n",
              " (0.059274606, '2001: A Space Odyssey (1968)'),\n",
              " (0.05868421, 'Clockwork Orange, A (1971)'),\n",
              " (0.056030717, 'Goodfellas (1990)')]"
            ]
          },
          "metadata": {
            "tags": []
          },
          "execution_count": 85
        }
      ]
    },
    {
      "metadata": {
        "id": "MN1M1_12pogm",
        "colab_type": "code",
        "colab": {
          "autoexec": {
            "startup": false,
            "wait_interval": 0
          },
          "base_uri": "https://localhost:8080/",
          "height": 187
        },
        "outputId": "cfa95f0a-aeae-40f2-812f-0057649f7ac0",
        "executionInfo": {
          "status": "ok",
          "timestamp": 1532911818129,
          "user_tz": -330,
          "elapsed": 1707,
          "user": {
            "displayName": "Rishabh Vij",
            "photoUrl": "https://lh3.googleusercontent.com/a/default-user=s128",
            "userId": "116715461577636413908"
          }
        }
      },
      "cell_type": "code",
      "source": [
        "sorted(movie_comp, key=itemgetter(0))[:10]"
      ],
      "execution_count": 89,
      "outputs": [
        {
          "output_type": "execute_result",
          "data": {
            "text/plain": [
              "[(-0.07264546, 'Armageddon (1998)'),\n",
              " (-0.06624988, 'Independence Day (a.k.a. ID4) (1996)'),\n",
              " (-0.06616313, 'Bodyguard, The (1992)'),\n",
              " (-0.06277191, \"Charlie's Angels (2000)\"),\n",
              " (-0.06078386, 'Coyote Ugly (2000)'),\n",
              " (-0.05913431, 'Police Academy 4: Citizens on Patrol (1987)'),\n",
              " (-0.05828667, 'Pearl Harbor (2001)'),\n",
              " (-0.057718895, 'Man in the Iron Mask, The (1998)'),\n",
              " (-0.056795377, 'Back to the Future Part II (1989)'),\n",
              " (-0.056456372, 'Titanic (1997)')]"
            ]
          },
          "metadata": {
            "tags": []
          },
          "execution_count": 89
        }
      ]
    },
    {
      "metadata": {
        "id": "oi_sIdOvqKE7",
        "colab_type": "code",
        "colab": {
          "autoexec": {
            "startup": false,
            "wait_interval": 0
          }
        }
      },
      "cell_type": "code",
      "source": [
        "fac1 = movie_pca[1]\n",
        "movie_comp = [(f, movie_names[i]) for f,i in zip(fac1, topMovies)]"
      ],
      "execution_count": 0,
      "outputs": []
    },
    {
      "metadata": {
        "id": "BgFvuyr0qwcp",
        "colab_type": "code",
        "colab": {
          "autoexec": {
            "startup": false,
            "wait_interval": 0
          },
          "base_uri": "https://localhost:8080/",
          "height": 187
        },
        "outputId": "883f9bb0-fa82-4889-e479-d7f4df20180d",
        "executionInfo": {
          "status": "ok",
          "timestamp": 1532911991293,
          "user_tz": -330,
          "elapsed": 1557,
          "user": {
            "displayName": "Rishabh Vij",
            "photoUrl": "https://lh3.googleusercontent.com/a/default-user=s128",
            "userId": "116715461577636413908"
          }
        }
      },
      "cell_type": "code",
      "source": [
        "# Looking at the second component, it looks like it's more like CGI vs Dialagoue driven\n",
        "sorted(movie_comp, key=itemgetter(0), reverse=True)[:10]"
      ],
      "execution_count": 96,
      "outputs": [
        {
          "output_type": "execute_result",
          "data": {
            "text/plain": [
              "[(0.051107116, 'Psycho (1998)'),\n",
              " (0.050285026, 'Alien: Resurrection (1997)'),\n",
              " (0.04559891, 'Specialist, The (1994)'),\n",
              " (0.04539943, 'Coneheads (1993)'),\n",
              " (0.0441544, 'Battlefield Earth (2000)'),\n",
              " (0.043938845, 'English Patient, The (1996)'),\n",
              " (0.043726906, 'Leaving Las Vegas (1995)'),\n",
              " (0.043284774, 'American Psycho (2000)'),\n",
              " (0.043273125, 'Catwoman (2004)'),\n",
              " (0.04246684, 'Anaconda (1997)')]"
            ]
          },
          "metadata": {
            "tags": []
          },
          "execution_count": 96
        }
      ]
    },
    {
      "metadata": {
        "id": "pPvSDsLnq7R8",
        "colab_type": "code",
        "colab": {
          "autoexec": {
            "startup": false,
            "wait_interval": 0
          },
          "base_uri": "https://localhost:8080/",
          "height": 204
        },
        "outputId": "0b0f475d-f64f-4316-b195-075380aa73c2",
        "executionInfo": {
          "status": "ok",
          "timestamp": 1532912001680,
          "user_tz": -330,
          "elapsed": 1201,
          "user": {
            "displayName": "Rishabh Vij",
            "photoUrl": "https://lh3.googleusercontent.com/a/default-user=s128",
            "userId": "116715461577636413908"
          }
        }
      },
      "cell_type": "code",
      "source": [
        "sorted(movie_comp, key=itemgetter(0))[:10]"
      ],
      "execution_count": 97,
      "outputs": [
        {
          "output_type": "execute_result",
          "data": {
            "text/plain": [
              "[(-0.1197067, 'Lord of the Rings: The Two Towers, The (2002)'),\n",
              " (-0.10851084, 'Lord of the Rings: The Return of the King, The (2003)'),\n",
              " (-0.10751183, 'Star Wars: Episode V - The Empire Strikes Back (1980)'),\n",
              " (-0.10429299,\n",
              "  'Raiders of the Lost Ark (Indiana Jones and the Raiders of the Lost Ark) (1981)'),\n",
              " (-0.09963316, 'Star Wars: Episode VI - Return of the Jedi (1983)'),\n",
              " (-0.09837852, 'Lord of the Rings: The Fellowship of the Ring, The (2001)'),\n",
              " (-0.08933297, 'Star Wars: Episode IV - A New Hope (1977)'),\n",
              " (-0.078764595, 'Untouchables, The (1987)'),\n",
              " (-0.07775646, 'Saving Private Ryan (1998)'),\n",
              " (-0.07673876, 'Matrix, The (1999)')]"
            ]
          },
          "metadata": {
            "tags": []
          },
          "execution_count": 97
        }
      ]
    },
    {
      "metadata": {
        "id": "444xUlR_rlZJ",
        "colab_type": "code",
        "colab": {
          "autoexec": {
            "startup": false,
            "wait_interval": 0
          }
        }
      },
      "cell_type": "code",
      "source": [
        "fac2 = movie_pca[2]\n",
        "movie_comp = [(f, movie_names[i]) for f,i in zip(fac2, topMovies)]"
      ],
      "execution_count": 0,
      "outputs": []
    },
    {
      "metadata": {
        "id": "BAPqGULLrwLm",
        "colab_type": "code",
        "colab": {
          "autoexec": {
            "startup": false,
            "wait_interval": 0
          },
          "base_uri": "https://localhost:8080/",
          "height": 187
        },
        "outputId": "93d4498f-5ba9-4523-abe8-92c9064fb2ed",
        "executionInfo": {
          "status": "ok",
          "timestamp": 1532912256660,
          "user_tz": -330,
          "elapsed": 1340,
          "user": {
            "displayName": "Rishabh Vij",
            "photoUrl": "https://lh3.googleusercontent.com/a/default-user=s128",
            "userId": "116715461577636413908"
          }
        }
      },
      "cell_type": "code",
      "source": [
        "# Looking at the thirdponent, it looks like it's more like Top rated vs low rated\n",
        "sorted(movie_comp, key=itemgetter(0), reverse=True)[:10]"
      ],
      "execution_count": 102,
      "outputs": [
        {
          "output_type": "execute_result",
          "data": {
            "text/plain": [
              "[(0.07165489, 'Mars Attacks! (1996)'),\n",
              " (0.0669004, 'American Pie (1999)'),\n",
              " (0.065995485, 'Clue (1985)'),\n",
              " (0.06419779, 'Man Who Knew Too Little, The (1997)'),\n",
              " (0.062836654, 'Scream (1996)'),\n",
              " (0.06268591, 'Eyes Wide Shut (1999)'),\n",
              " (0.06002538, 'Dogma (1999)'),\n",
              " (0.058604397, 'Barbarella (1968)'),\n",
              " (0.058573775, 'Scary Movie (2000)'),\n",
              " (0.055882514, 'True Lies (1994)')]"
            ]
          },
          "metadata": {
            "tags": []
          },
          "execution_count": 102
        }
      ]
    },
    {
      "metadata": {
        "id": "-Nt7zlHgr1nf",
        "colab_type": "code",
        "colab": {
          "autoexec": {
            "startup": false,
            "wait_interval": 0
          },
          "base_uri": "https://localhost:8080/",
          "height": 187
        },
        "outputId": "f5787112-7203-4497-d218-963b4a401396",
        "executionInfo": {
          "status": "ok",
          "timestamp": 1532912177568,
          "user_tz": -330,
          "elapsed": 1515,
          "user": {
            "displayName": "Rishabh Vij",
            "photoUrl": "https://lh3.googleusercontent.com/a/default-user=s128",
            "userId": "116715461577636413908"
          }
        }
      },
      "cell_type": "code",
      "source": [
        "sorted(movie_comp, key=itemgetter(0))[:10]"
      ],
      "execution_count": 101,
      "outputs": [
        {
          "output_type": "execute_result",
          "data": {
            "text/plain": [
              "[(-0.08154296, 'Aladdin (1992)'),\n",
              " (-0.06862062, 'Sound of Music, The (1965)'),\n",
              " (-0.06777711, 'Lord of the Rings: The Return of the King, The (2003)'),\n",
              " (-0.067702234, 'Mission: Impossible II (2000)'),\n",
              " (-0.06219837, \"Bug's Life, A (1998)\"),\n",
              " (-0.06006081, 'Bend It Like Beckham (2002)'),\n",
              " (-0.059700493, \"Schindler's List (1993)\"),\n",
              " (-0.05899975, 'My Big Fat Greek Wedding (2002)'),\n",
              " (-0.058837052, 'Star Wars: Episode IV - A New Hope (1977)'),\n",
              " (-0.057453893, 'Shawshank Redemption, The (1994)')]"
            ]
          },
          "metadata": {
            "tags": []
          },
          "execution_count": 101
        }
      ]
    },
    {
      "metadata": {
        "id": "SHDwqexorakn",
        "colab_type": "text"
      },
      "cell_type": "markdown",
      "source": [
        "**We can draw a picture to see how various movies appear on the map of these components. This picture shows the first two components.**"
      ]
    },
    {
      "metadata": {
        "id": "YG4TcG0-q_OP",
        "colab_type": "code",
        "colab": {
          "autoexec": {
            "startup": false,
            "wait_interval": 0
          },
          "base_uri": "https://localhost:8080/",
          "height": 863
        },
        "outputId": "dbd27728-a9fe-4a73-c434-0318a35bcfa4",
        "executionInfo": {
          "status": "ok",
          "timestamp": 1532912077492,
          "user_tz": -330,
          "elapsed": 2652,
          "user": {
            "displayName": "Rishabh Vij",
            "photoUrl": "https://lh3.googleusercontent.com/a/default-user=s128",
            "userId": "116715461577636413908"
          }
        }
      },
      "cell_type": "code",
      "source": [
        "idxs = np.random.choice(len(topMovies), 50, replace=False)\n",
        "X = fac0[idxs]\n",
        "Y = fac1[idxs]\n",
        "plt.figure(figsize=(15,15))\n",
        "plt.scatter(X, Y)\n",
        "for i, x, y in zip(topMovies[idxs], X, Y):\n",
        "    plt.text(x,y,movie_names[i], color=np.random.rand(3)*0.7, fontsize=11)\n",
        "plt.show()"
      ],
      "execution_count": 98,
      "outputs": [
        {
          "output_type": "display_data",
          "data": {
            "image/png": "[encoded data removed]",
            "text/plain": [
              "<matplotlib.figure.Figure at 0x7f457f32e4e0>"
            ]
          },
          "metadata": {
            "tags": []
          }
        }
      ]
    },
    {
      "metadata": {
        "id": "t1gfu1VutzsP",
        "colab_type": "text"
      },
      "cell_type": "markdown",
      "source": [
        "##End."
      ]
    },
    {
      "metadata": {
        "id": "MsbzYBuLt0zm",
        "colab_type": "code",
        "colab": {
          "autoexec": {
            "startup": false,
            "wait_interval": 0
          }
        }
      },
      "cell_type": "code",
      "source": [
        ""
      ],
      "execution_count": 0,
      "outputs": []
    }
  ]
}